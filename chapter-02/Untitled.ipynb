{
 "cells": [
  {
   "cell_type": "markdown",
   "id": "6f4a9c67",
   "metadata": {},
   "source": [
    "# Chapter 2 End-to-End Machine Learning Project\n",
    "\n",
    "In this chapter will work thorugh an example project end to end. Will go through:\n",
    "\n",
    "1. Look at the big picture\n",
    "2. Get the data.\n",
    "3. Discover and visualize the data to gain insights.\n",
    "4. Prepare the data for Machine Learning algorithms.\n",
    "5. Selecct a model and train it.\n",
    "6. Fine-tune your model\n",
    "7. Present your solution\n",
    "8. Launch, monitor, and mantain your system\n",
    "\n",
    "In this chapter we'll use the California Housing Prices dataset from the StatLib repository. This datset is based on data from the 1990 California census. "
   ]
  },
  {
   "cell_type": "markdown",
   "id": "4918def1",
   "metadata": {},
   "source": [
    "## Look at the Big Picture\n",
    "\n",
    "### Frame the Problem \n",
    "\n",
    "The first question to ask is what excatly the business objective is. Building a model is probably not the end goal. How does the company expect to use and benefit from this model. Knowing the objective is important because it will determine how you frame the problem, which algorithms you will select, which performance measure you will use to evaluate your model, and how much effort you will spend tweaking it.\n",
    "\n",
    "The answer for this question and this chapter is a prediction of a distric"
   ]
  }
 ],
 "metadata": {
  "kernelspec": {
   "display_name": "Python 3 (ipykernel)",
   "language": "python",
   "name": "python3"
  },
  "language_info": {
   "codemirror_mode": {
    "name": "ipython",
    "version": 3
   },
   "file_extension": ".py",
   "mimetype": "text/x-python",
   "name": "python",
   "nbconvert_exporter": "python",
   "pygments_lexer": "ipython3",
   "version": "3.11.6"
  }
 },
 "nbformat": 4,
 "nbformat_minor": 5
}
